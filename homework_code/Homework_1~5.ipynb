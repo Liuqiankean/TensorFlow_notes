{
 "cells": [
  {
   "cell_type": "markdown",
   "metadata": {},
   "source": [
    "2.图与会话"
   ]
  },
  {
   "cell_type": "markdown",
   "metadata": {},
   "source": [
    "小练习：\n",
    "构建一个图，描述从1到100的累加，并在会话中执行得到结果。然后描述图的形式，并简要画出从1到3的累加的图的形式。"
   ]
  },
  {
   "cell_type": "code",
   "execution_count": 41,
   "metadata": {
    "collapsed": false
   },
   "outputs": [
    {
     "name": "stdout",
     "output_type": "stream",
     "text": [
      "5050\n"
     ]
    }
   ],
   "source": [
    "import tensorflow as tf\n",
    "sum=0\n",
    "for i in range(101):\n",
    "    sum=tf.add(sum,i)\n",
    "sess=tf.Session()\n",
    "print(sess.run(sum))\n",
    "sess.close()"
   ]
  },
  {
   "cell_type": "markdown",
   "metadata": {},
   "source": [
    "2.作业1"
   ]
  },
  {
   "cell_type": "code",
   "execution_count": 9,
   "metadata": {
    "collapsed": false,
    "scrolled": true
   },
   "outputs": [
    {
     "name": "stdout",
     "output_type": "stream",
     "text": [
      "8\n",
      "8\n"
     ]
    }
   ],
   "source": [
    "c=tf.add(3,5)\n",
    "with tf.Session()as sess1:\n",
    "    print(c.eval())\n",
    "sess2=tf.Session()\n",
    "print(sess2.run(c))\n",
    "sess2.close()"
   ]
  },
  {
   "cell_type": "markdown",
   "metadata": {
    "collapsed": true
   },
   "source": [
    "2.作业2"
   ]
  },
  {
   "cell_type": "code",
   "execution_count": 16,
   "metadata": {
    "collapsed": false,
    "scrolled": true
   },
   "outputs": [
    {
     "name": "stdout",
     "output_type": "stream",
     "text": [
      "[12, 8, 20, 5.0, 1, 1000, 100, 3.0] <dtype: 'float32'>\n"
     ]
    }
   ],
   "source": [
    "import tensorflow as tf\n",
    "a=tf.constant(10)\n",
    "b=tf.constant(2)\n",
    "c=tf.constant(9.0)\n",
    "s1 = tf.add(a,b)\n",
    "s2 = tf.subtract(a,b)\n",
    "s3 = tf.multiply(a,b)\n",
    "s4 = tf.divide(a,b)\n",
    "s5 = tf.mod(a,3)\n",
    "s6 = tf.pow(a,3)\n",
    "s7 = tf.square(a)\n",
    "s8 = tf.sqrt(c)\n",
    "with tf.Session() as sess:\n",
    "    print(sess.run([s1,s2,s3,s4,s5,s6,s7,s8]),tf.float32)"
   ]
  },
  {
   "cell_type": "markdown",
   "metadata": {},
   "source": [
    "!注意：必须是tensor类型才可以run "
   ]
  },
  {
   "cell_type": "code",
   "execution_count": 26,
   "metadata": {
    "collapsed": false
   },
   "outputs": [
    {
     "name": "stdout",
     "output_type": "stream",
     "text": [
      "[[1. 1. 1.]\n",
      " [1. 1. 1.]]\n"
     ]
    }
   ],
   "source": [
    "b=tf.convert_to_tensor([[1,2,3],[1,2,3]])\n",
    "c=tf.constant([[1,2,3],[1,2,3]])\n",
    "\n",
    "with tf.Session() as sess:\n",
    "    print(sess.run(tf.ones(c.shape)))"
   ]
  },
  {
   "cell_type": "markdown",
   "metadata": {},
   "source": [
    "3.图的边与节点"
   ]
  },
  {
   "cell_type": "markdown",
   "metadata": {},
   "source": [
    "1.利用索引取出第二张图片"
   ]
  },
  {
   "cell_type": "code",
   "execution_count": 32,
   "metadata": {
    "collapsed": false
   },
   "outputs": [],
   "source": [
    "a.[1,:,:,:]"
   ]
  },
  {
   "cell_type": "markdown",
   "metadata": {},
   "source": [
    "2.利用切片取出第2张图片"
   ]
  },
  {
   "cell_type": "code",
   "execution_count": null,
   "metadata": {
    "collapsed": true
   },
   "outputs": [],
   "source": [
    "tf.slice(a,[1,0,0,0],[1,28,28,3])"
   ]
  },
  {
   "cell_type": "markdown",
   "metadata": {},
   "source": [
    "3.使用切片与使用索引取出的一张图片的不同之处：索引是从点开始取，切片是片段"
   ]
  },
  {
   "cell_type": "markdown",
   "metadata": {},
   "source": [
    "4.取出其中的第1、3、5、7张图片"
   ]
  },
  {
   "cell_type": "code",
   "execution_count": null,
   "metadata": {
    "collapsed": true
   },
   "outputs": [],
   "source": [
    "i=0\n",
    "while i<=7:\n",
    "    tf.slice(a,[i,0,0,0],[1,28,28,3])\n",
    "    i+=2"
   ]
  },
  {
   "cell_type": "markdown",
   "metadata": {},
   "source": [
    "5.取出第6-8张（包括6不包括8）图片中中心区域（14*14）的部分"
   ]
  },
  {
   "cell_type": "code",
   "execution_count": null,
   "metadata": {
    "collapsed": true
   },
   "outputs": [],
   "source": [
    "for i in rang(6,8):\n",
    "    tf.slice(a,[i,13,13,0],[1,14,14,3])"
   ]
  },
  {
   "cell_type": "markdown",
   "metadata": {},
   "source": [
    "6.将图片根据通道拆分成三份单通道图片"
   ]
  },
  {
   "cell_type": "code",
   "execution_count": null,
   "metadata": {
    "collapsed": true
   },
   "outputs": [],
   "source": [
    "for i in rang(0,10):\n",
    "    for j in rang(0,3):\n",
    "        tf.slice(a,[i,0,0,0],[1,28,28,j])"
   ]
  },
  {
   "cell_type": "markdown",
   "metadata": {},
   "source": [
    "7.`tf.shape(img)`返回的张量的阶数=4\n",
    "`shape`属性的值(1,4)"
   ]
  },
  {
   "cell_type": "markdown",
   "metadata": {},
   "source": [
    "4.常量、变量、占位符"
   ]
  },
  {
   "cell_type": "markdown",
   "metadata": {},
   "source": [
    "作业1：构建二元线性回归模型"
   ]
  },
  {
   "cell_type": "code",
   "execution_count": null,
   "metadata": {
    "collapsed": true
   },
   "outputs": [],
   "source": [
    "a = tf.Variable(2)\n",
    "b = tf.Variable(3)\n",
    "x1 = tf.placeholder(dtype=tf.float32)\n",
    "x2 = tf.placeholder(dtype=tf.float32)\n",
    "\n",
    "y=tf.multiply(a,x1)+tf.multiply(b,x2)\n",
    "\n",
    "with tf.Session() as sess:\n",
    "    sess.run(y,feed_dict={x1:5,x2:6})"
   ]
  },
  {
   "cell_type": "markdown",
   "metadata": {
    "collapsed": true
   },
   "source": [
    "作业2：对于一个样本的代价：图先放入C语言环境中，再把参数传入"
   ]
  },
  {
   "cell_type": "markdown",
   "metadata": {},
   "source": [
    "5.名字和作用域"
   ]
  },
  {
   "cell_type": "markdown",
   "metadata": {},
   "source": [
    "小练习：\n",
    "以下操作均为一个图中的`op`，请写出以下操作对应中的`Op`与对应生成的`Tensor`的`name`：\n",
    "- `tf.constant([1, 2])`  #Const:0\n",
    "- `tf.add([1, 2], [3, 4], name='op_1')`  #op_1:0\n",
    "- `tf.add([2, 3], [4, 5], name='op_1')`  #op_1_1:0\n",
    "- `tf.mod([1, 3], [2, 4], name='op_1')`  #op_1_2:0\n",
    "- `tf.slice([1, 2], [0], [1], name='123')`  #123:0"
   ]
  },
  {
   "cell_type": "code",
   "execution_count": null,
   "metadata": {
    "collapsed": true
   },
   "outputs": [],
   "source": [
    "小练习：\n",
    "以下说法正确的是：\n",
    "\n",
    "×- `name_scope`可以给所有在其作用域中创建的`Op`的`name`添加前缀。\n",
    "√- 在多级`name_scope`中的不同层级作用域下创建的`Op`（除去`tf.get_variable`以外），不存在`name`重名。\n",
    "√- `name_scope`可以通过划分操作范围来组织图结构，并能服务于得可视化。"
   ]
  },
  {
   "cell_type": "code",
   "execution_count": 21,
   "metadata": {
    "collapsed": false
   },
   "outputs": [
    {
     "name": "stdout",
     "output_type": "stream",
     "text": [
      "1\n"
     ]
    }
   ],
   "source": [
    "import tensorflow as tf\n",
    "print(tf.name_scope(\"1\",\"2\").name)"
   ]
  },
  {
   "cell_type": "markdown",
   "metadata": {},
   "source": [
    "作业1. 总结`name_scope`与`variable_scope`的作用以及异同点。"
   ]
  },
  {
   "cell_type": "markdown",
   "metadata": {},
   "source": [
    "相同点：variable_scope 包含 name_scope 的功能，可以给op和tensor加前缀\n",
    "异同点：1.name_scope 不可以给 get_variable()创建的变量加前缀；get_variable()只可以和variable_scope一起搭配使用。\n",
    "2.多个name_scope嵌套使用时，有几层name_scope就会加几层name_scope前缀;多个variable_scope嵌套使用时，相当于最外层是variable_scope,剩下n-1层均为name_scope"
   ]
  },
  {
   "cell_type": "markdown",
   "metadata": {
    "collapsed": true
   },
   "source": [
    "作业2. 构建逻辑回归模型（只有模型部分，不包括训练部分），使用`get_variable`与`variable_scope`将变量的创建与使用分开。提示：使用`tf.nn.sigmoid`实现`logistic`函数。"
   ]
  },
  {
   "cell_type": "code",
   "execution_count": null,
   "metadata": {
    "collapsed": true
   },
   "outputs": [],
   "source": [
    "import tensorflow as tf\n",
    "def Logistic(...):    \n",
    "    #定义op\n",
    "    model_output = tf.add(tf.matmul(x_data,A),b)\n",
    "    #声明损失函数\n",
    "    loss = tf.reduce_mean(tf.nn.sigmoid_cross_entropy_with_logits(logits = model_output, labels = y_target))\n",
    "    #优化\n",
    "    my_opt = tf.train.GradientDescentOptimizer(0.01)\n",
    "    train_step = my_opt.minimize(loss)\n",
    "    #创建一个返回准确度的预测函数\n",
    "    prediction = tf.round(tf.sigmoid(model_output))\n",
    "    predictions_correct = tf.cast(tf.equal(prediction, y_target), tf.float32)\n",
    "    accuracy = tf.reduce_mean(predictions_correct)\n",
    "    return ...\n",
    "with tf.variable_scope('scope',reuse = tf.) as scope:\n",
    "    x = tf.get_variable('x',shape=[],detype=...)\n",
    "    A = tf.constant(...)\n",
    "    b = tf.constant(...)\n",
    "with tf.Session() as sess:\n",
    "    sess.run(tf.global_variables_initializer())\n",
    "    print(sess.run(...))"
   ]
  }
 ],
 "metadata": {
  "kernelspec": {
   "display_name": "Python 3",
   "language": "python",
   "name": "python3"
  },
  "language_info": {
   "codemirror_mode": {
    "name": "ipython",
    "version": 3
   },
   "file_extension": ".py",
   "mimetype": "text/x-python",
   "name": "python",
   "nbconvert_exporter": "python",
   "pygments_lexer": "ipython3",
   "version": "3.6.2"
  }
 },
 "nbformat": 4,
 "nbformat_minor": 2
}
