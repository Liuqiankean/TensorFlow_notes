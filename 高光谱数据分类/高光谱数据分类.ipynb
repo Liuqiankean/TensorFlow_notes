{
 "cells": [
  {
   "cell_type": "markdown",
   "metadata": {},
   "source": [
    "导入包"
   ]
  },
  {
   "cell_type": "code",
   "execution_count": 1,
   "metadata": {
    "collapsed": false
   },
   "outputs": [],
   "source": [
    "import numpy as np\n",
    "from scipy.io import loadmat,savemat\n",
    "from sklearn.model_selection import train_test_split\n",
    "import os\n",
    "from sklearn.decomposition import PCA\n",
    "from sklearn.svm import SVC\n",
    "from sklearn import preprocessing"
   ]
  },
  {
   "cell_type": "markdown",
   "metadata": {},
   "source": [
    "导入数据"
   ]
  },
  {
   "cell_type": "code",
   "execution_count": 2,
   "metadata": {
    "collapsed": false
   },
   "outputs": [],
   "source": [
    "data = np.array([])\n",
    "n = 0\n",
    "target = np.array([])\n",
    "for i,n in zip(os.listdir('9个类别的数据集-train/'),[2,3,5,6,8,10,11,12,14]):\n",
    "    a,b = os.path.splitext(i)\n",
    "    new = loadmat('9个类别的数据集-train/'+i)[a]\n",
    "    for j in range(new.shape[0]):\n",
    "        target = np.append(target,n)#为每个样本赋予标签\n",
    "    data = np.append(data,new)\n",
    "data = np.reshape(data,(-1,200))\n",
    "target = np.reshape(target,(-1,1))"
   ]
  },
  {
   "cell_type": "code",
   "execution_count": 3,
   "metadata": {
    "collapsed": false
   },
   "outputs": [
    {
     "data": {
      "text/plain": [
       "array([[3693., 4256., 4503., ..., 1050., 1024., 1024.],\n",
       "       [2589., 4372., 4334., ..., 1050., 1024., 1019.],\n",
       "       [3693., 4128., 4507., ..., 1045., 1029., 1019.],\n",
       "       ...,\n",
       "       [3192., 4235., 4313., ..., 1026., 1023., 1000.],\n",
       "       [3192., 4111., 4313., ..., 1030., 1014., 1008.],\n",
       "       [3192., 4115., 4313., ..., 1031., 1014., 1013.]])"
      ]
     },
     "execution_count": 3,
     "metadata": {},
     "output_type": "execute_result"
    }
   ],
   "source": [
    "data"
   ]
  },
  {
   "cell_type": "markdown",
   "metadata": {},
   "source": [
    "数据预处理——标准化"
   ]
  },
  {
   "cell_type": "code",
   "execution_count": 4,
   "metadata": {
    "collapsed": false
   },
   "outputs": [],
   "source": [
    "scaler = preprocessing.StandardScaler().fit(data)\n",
    "data = scaler.transform(data)"
   ]
  },
  {
   "cell_type": "code",
   "execution_count": 5,
   "metadata": {
    "collapsed": false
   },
   "outputs": [
    {
     "data": {
      "text/plain": [
       "array([[ 1.93131339,  0.46936621,  0.58152419, ...,  0.42538707,\n",
       "         0.29026057,  1.94286538],\n",
       "       [-0.98136932,  1.01466346, -0.12126842, ...,  0.42538707,\n",
       "         0.29026057,  1.22873286],\n",
       "       [ 1.93131339, -0.13234109,  0.59815834, ...,  0.18687544,\n",
       "         0.727489  ,  1.22873286],\n",
       "       ...,\n",
       "       [ 0.60952531,  0.37064861, -0.20859767, ..., -0.71946873,\n",
       "         0.20281488, -1.48497071],\n",
       "       [ 0.60952531, -0.21225534, -0.20859767, ..., -0.52865943,\n",
       "        -0.58419628, -0.34235868],\n",
       "       [ 0.60952531, -0.19345199, -0.20859767, ..., -0.48095711,\n",
       "        -0.58419628,  0.37177384]])"
      ]
     },
     "execution_count": 5,
     "metadata": {},
     "output_type": "execute_result"
    }
   ],
   "source": [
    "data"
   ]
  },
  {
   "cell_type": "markdown",
   "metadata": {},
   "source": [
    "划分训练集（80%）、验证集（20%）"
   ]
  },
  {
   "cell_type": "code",
   "execution_count": 6,
   "metadata": {
    "collapsed": false
   },
   "outputs": [],
   "source": [
    "train_x,dev_x,train_y,dev_y = train_test_split(data,target,test_size=0.2,random_state=30)\n",
    "test_x = np.array(loadmat('data_test_final.mat')['data_test_final'])"
   ]
  },
  {
   "cell_type": "code",
   "execution_count": 7,
   "metadata": {
    "collapsed": false
   },
   "outputs": [
    {
     "data": {
      "text/plain": [
       "array([[3158, 4122, 4145, ..., 1022, 1019, 1010],\n",
       "       [3023, 3737, 4027, ..., 1019, 1008, 1004],\n",
       "       [2743, 4388, 4591, ..., 1056, 1030, 1025],\n",
       "       ...,\n",
       "       [2561, 3881, 4051, ..., 1018,  998, 1015],\n",
       "       [2745, 4391, 4335, ..., 1046, 1029, 1019],\n",
       "       [3009, 3986, 3967, ..., 1011, 1009, 1000]], dtype=uint16)"
      ]
     },
     "execution_count": 7,
     "metadata": {},
     "output_type": "execute_result"
    }
   ],
   "source": [
    "test_x"
   ]
  },
  {
   "cell_type": "markdown",
   "metadata": {},
   "source": [
    "特征降维"
   ]
  },
  {
   "cell_type": "code",
   "execution_count": 8,
   "metadata": {
    "collapsed": false
   },
   "outputs": [
    {
     "data": {
      "text/plain": [
       "array([[-1.25685758e+04, -2.99265760e+04,  1.58716721e+02, ...,\n",
       "        -7.92734213e+01, -2.06196317e+01, -6.35105634e+01],\n",
       "       [-5.66151442e+03, -3.98049563e+04, -1.62262249e+02, ...,\n",
       "        -5.97618539e+01, -4.61844108e+00, -4.45135409e+01],\n",
       "       [-1.45728094e+04, -3.37579225e+04,  3.28498687e+02, ...,\n",
       "        -6.80936170e+01, -2.26249462e+01, -5.48671413e+01],\n",
       "       ...,\n",
       "       [-7.67225816e+03, -3.55382898e+04, -4.17928149e+01, ...,\n",
       "        -5.09574647e+01, -7.83039649e+00, -3.81193351e+01],\n",
       "       [-1.46714332e+04, -3.18373223e+04,  2.88894993e+02, ...,\n",
       "        -7.93164844e+01, -3.73214215e+01, -5.73002016e+01],\n",
       "       [-9.70278905e+03, -3.58526614e+04, -2.51543999e+02, ...,\n",
       "        -6.32968321e+01, -2.18964486e+01, -5.74647029e+01]])"
      ]
     },
     "execution_count": 8,
     "metadata": {},
     "output_type": "execute_result"
    }
   ],
   "source": [
    "pca = PCA(n_components='mle',copy=False)\n",
    "pca.fit_transform(train_x)\n",
    "pca.transform(dev_x)\n",
    "pca.transform(test_x)"
   ]
  },
  {
   "cell_type": "markdown",
   "metadata": {},
   "source": [
    "特征降维后，降成了195个特征"
   ]
  },
  {
   "cell_type": "code",
   "execution_count": 9,
   "metadata": {
    "collapsed": false
   },
   "outputs": [
    {
     "data": {
      "text/plain": [
       "(195,)"
      ]
     },
     "execution_count": 9,
     "metadata": {},
     "output_type": "execute_result"
    }
   ],
   "source": [
    "pca.explained_variance_ratio_.shape"
   ]
  },
  {
   "cell_type": "markdown",
   "metadata": {},
   "source": [
    "训练、预测"
   ]
  },
  {
   "cell_type": "code",
   "execution_count": 12,
   "metadata": {
    "collapsed": false
   },
   "outputs": [],
   "source": [
    "clf = SVC(gamma='auto',decision_function_shape='ovo')"
   ]
  },
  {
   "cell_type": "markdown",
   "metadata": {},
   "source": [
    "格点搜索法搜索最优参数"
   ]
  },
  {
   "cell_type": "code",
   "execution_count": 37,
   "metadata": {
    "collapsed": false
   },
   "outputs": [
    {
     "data": {
      "text/plain": [
       "GridSearchCV(cv=10, error_score='raise-deprecating',\n",
       "       estimator=SVC(C=100, cache_size=200, class_weight=None, coef0=0.0,\n",
       "  decision_function_shape='ovo', degree=3, gamma=0.006, kernel='rbf',\n",
       "  max_iter=-1, probability=False, random_state=None, shrinking=True,\n",
       "  tol=0.001, verbose=False),\n",
       "       fit_params=None, iid='warn', n_jobs=None,\n",
       "       param_grid={'C': [100], 'gamma': [0.001, 0.005, 0.006, 0.007, 0.01]},\n",
       "       pre_dispatch='2*n_jobs', refit=True, return_train_score='warn',\n",
       "       scoring=None, verbose=0)"
      ]
     },
     "execution_count": 37,
     "metadata": {},
     "output_type": "execute_result"
    }
   ],
   "source": [
    "from sklearn.model_selection import GridSearchCV\n",
    "param_test ={\"C\":[100],\n",
    "             \"gamma\":[0.001,0.005,0.006,0.007,0.01]}\n",
    "gsearch= GridSearchCV(estimator =clf,param_grid =param_test,cv=10)\n",
    "gsearch.fit(train_x,train_y.ravel())"
   ]
  },
  {
   "cell_type": "markdown",
   "metadata": {},
   "source": [
    "输出SVC自带评分指标"
   ]
  },
  {
   "cell_type": "code",
   "execution_count": 41,
   "metadata": {
    "collapsed": false
   },
   "outputs": [
    {
     "data": {
      "text/plain": [
       "0.9545126353790614"
      ]
     },
     "execution_count": 41,
     "metadata": {},
     "output_type": "execute_result"
    }
   ],
   "source": [
    "clf = SVC(C=100,gamma=0.006,kernel= \"rbf\",decision_function_shape='ovo')\n",
    "clf.fit(train_x,train_y.ravel())\n",
    "pred_y = clf.predict(dev_x)\n",
    "clf.score(dev_x,dev_y)"
   ]
  },
  {
   "cell_type": "code",
   "execution_count": 35,
   "metadata": {
    "collapsed": false
   },
   "outputs": [
    {
     "data": {
      "text/plain": [
       "array([ 3.,  3., 10., ...,  5.,  6.,  3.])"
      ]
     },
     "execution_count": 35,
     "metadata": {},
     "output_type": "execute_result"
    }
   ],
   "source": [
    "pred_y"
   ]
  },
  {
   "cell_type": "markdown",
   "metadata": {},
   "source": [
    "输出评价指标"
   ]
  },
  {
   "cell_type": "code",
   "execution_count": 36,
   "metadata": {
    "collapsed": false
   },
   "outputs": [
    {
     "name": "stdout",
     "output_type": "stream",
     "text": [
      "              precision    recall  f1-score   support\n",
      "\n",
      "         2.0       0.92      0.95      0.93       138\n",
      "         3.0       0.94      0.94      0.94       372\n",
      "         5.0       0.98      0.96      0.97       100\n",
      "         6.0       0.99      0.99      0.99       168\n",
      "         8.0       0.93      0.94      0.93       192\n",
      "        10.0       0.95      0.90      0.92       142\n",
      "        11.0       0.99      0.97      0.98        79\n",
      "        12.0       0.98      1.00      0.99       128\n",
      "        14.0       1.00      1.00      1.00        66\n",
      "\n",
      "   micro avg       0.95      0.95      0.95      1385\n",
      "   macro avg       0.96      0.96      0.96      1385\n",
      "weighted avg       0.95      0.95      0.95      1385\n",
      "\n"
     ]
    }
   ],
   "source": [
    "from sklearn.metrics import classification_report\n",
    "print(classification_report(dev_y,pred_y,target_names = None))"
   ]
  },
  {
   "cell_type": "markdown",
   "metadata": {},
   "source": [
    "使用K近邻分类"
   ]
  },
  {
   "cell_type": "code",
   "execution_count": 40,
   "metadata": {
    "collapsed": false
   },
   "outputs": [
    {
     "name": "stdout",
     "output_type": "stream",
     "text": [
      "0.8028880866425993\n"
     ]
    }
   ],
   "source": [
    "from sklearn.neighbors import KNeighborsClassifier\n",
    "neigh = KNeighborsClassifier(n_neighbors=9)\n",
    "neigh.fit(train_x,train_y.ravel())\n",
    "print(neigh.score(dev_x,dev_y))"
   ]
  },
  {
   "cell_type": "code",
   "execution_count": 41,
   "metadata": {
    "collapsed": false,
    "scrolled": true
   },
   "outputs": [
    {
     "name": "stdout",
     "output_type": "stream",
     "text": [
      "              precision    recall  f1-score   support\n",
      "\n",
      "         2.0       0.77      0.76      0.76       138\n",
      "         3.0       0.70      0.90      0.79       372\n",
      "         5.0       0.73      0.43      0.54       100\n",
      "         6.0       0.98      0.98      0.98       168\n",
      "         8.0       0.70      0.67      0.68       192\n",
      "        10.0       0.83      0.47      0.60       142\n",
      "        11.0       0.94      0.97      0.96        79\n",
      "        12.0       0.97      0.98      0.98       128\n",
      "        14.0       1.00      1.00      1.00        66\n",
      "\n",
      "   micro avg       0.80      0.80      0.80      1385\n",
      "   macro avg       0.85      0.80      0.81      1385\n",
      "weighted avg       0.81      0.80      0.79      1385\n",
      "\n"
     ]
    }
   ],
   "source": [
    "from sklearn.metrics import classification_report\n",
    "print(classification_report(dev_y,neigh.predict(dev_x),target_names = None))"
   ]
  },
  {
   "cell_type": "markdown",
   "metadata": {},
   "source": [
    "效果不如SVC"
   ]
  }
 ],
 "metadata": {
  "kernelspec": {
   "display_name": "Python 3",
   "language": "python",
   "name": "python3"
  },
  "language_info": {
   "codemirror_mode": {
    "name": "ipython",
    "version": 3
   },
   "file_extension": ".py",
   "mimetype": "text/x-python",
   "name": "python",
   "nbconvert_exporter": "python",
   "pygments_lexer": "ipython3",
   "version": "3.6.2"
  }
 },
 "nbformat": 4,
 "nbformat_minor": 2
}
